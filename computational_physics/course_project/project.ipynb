{
 "cells": [
  {
   "cell_type": "code",
   "execution_count": null,
   "id": "ff40395a",
   "metadata": {},
   "outputs": [],
   "source": [
    "#import\n",
    "import matplotlib.pyplot as plt\n",
    "import pandas as pd\n",
    "from pandas import DataFrame\n",
    "import math"
   ]
  },
  {
   "cell_type": "code",
   "execution_count": null,
   "id": "2c7ce730",
   "metadata": {},
   "outputs": [],
   "source": [
    "#user input \n",
    "#initail condition\n",
    "t0 = int(input(\"initial time t0 : \"))\n",
    "n0 = int(input(\"initial atom no : \"))\n",
    "#others\n",
    "h = float(input(\"value of h : \"))\n",
    "const = float(input(\"value of constant : \"))\n",
    "no_of_term = int(input(\"how many terms of taylor series do you want to count : \")) "
   ]
  },
  {
   "cell_type": "code",
   "execution_count": null,
   "id": "a669a1a1",
   "metadata": {},
   "outputs": [],
   "source": [
    "#time value\n",
    "time_list = [t0]\n",
    "\n",
    "#append time and remaining atom no in list\n",
    "for i in range(1,50):\n",
    "    t = t0+ i*h\n",
    "    time_list.append(t)"
   ]
  },
  {
   "cell_type": "code",
   "execution_count": null,
   "id": "c6ae8c34",
   "metadata": {},
   "outputs": [],
   "source": [
    "#analytical value\n",
    "analytical_list=[] \n",
    "for l in range(len(time_list)):\n",
    "    N2 = n0*2.71828182845904523536028747135266249775724709369995**(-const*(time_list[l]-t0)) # N = N0*e^(-ƛt)\n",
    "    analytical_list.append(N2) "
   ]
  },
  {
   "cell_type": "code",
   "execution_count": null,
   "id": "42fb2885",
   "metadata": {},
   "outputs": [],
   "source": [
    "#analytical plot\n",
    "plt.plot(time_list,analytical_list, label = \"analytical\")\n",
    "plt.xlabel(\"Time\")\n",
    "plt.ylabel(\"No of atoms\")\n",
    "plt.legend()\n",
    "plt.show()"
   ]
  },
  {
   "cell_type": "code",
   "execution_count": null,
   "id": "b0373540",
   "metadata": {},
   "outputs": [],
   "source": [
    "#taylor series\n",
    "# factorial function\n",
    "def fact(x):\n",
    "    if x == 0:\n",
    "        return 1\n",
    "    else:\n",
    "        return x*fact(x-1)\n",
    "taylor_series_list = []\n",
    "for i in range(50):\n",
    "    x = t0 + h*i\n",
    "    z0 = n0\n",
    "    for j in range(1,no_of_term+1):\n",
    "        N1 = z0 + ((x-t0)**j)*((-1)**j)*(const**j)*n0/fact(j)\n",
    "        z0 = N1\n",
    "    taylor_series_list.append(z0)"
   ]
  },
  {
   "cell_type": "code",
   "execution_count": null,
   "id": "a2947d30",
   "metadata": {},
   "outputs": [],
   "source": [
    "#eular method\n",
    "eular_series_list = [] # this is for eular solve data\n",
    "for j in range(len(time_list)):\n",
    "    n = round((time_list[j] - t0)/h)\n",
    "    e = n0\n",
    "    for k in range(n):\n",
    "        N = e + h*(-const*e)\n",
    "        e = N\n",
    "    eular_series_list.append(e)"
   ]
  },
  {
   "cell_type": "code",
   "execution_count": null,
   "id": "fff1311d",
   "metadata": {},
   "outputs": [],
   "source": [
    "#4th order runge kutta\n",
    "rungekutta_list = [n0]\n",
    "n_0 = n0\n",
    "for j in range(1,len(time_list)):\n",
    "    k1 = h*(-const)*n_0\n",
    "    k2 = h*(-const)*(n_0+k1/2)\n",
    "    k3 = h*(-const)*(n_0+k2/2)\n",
    "    k4 = h*(-const)*(n_0+k3)\n",
    "    N = n_0 + (1/6)*(k1+2*k2+2*k3+k4)\n",
    "    rungekutta_list.append(N)\n",
    "    n_0 = N"
   ]
  },
  {
   "cell_type": "code",
   "execution_count": null,
   "id": "1dc87400",
   "metadata": {},
   "outputs": [],
   "source": [
    "df1 =  DataFrame({\"Time\":time_list, \"Analytical value\": analytical_list,\n",
    "               \"Taylor series\": taylor_series_list, \n",
    "               \"Eular method\": eular_series_list, \n",
    "               \"Runge Kutta method\": rungekutta_list})\n",
    "print(df1)"
   ]
  },
  {
   "cell_type": "code",
   "execution_count": null,
   "id": "2e652669",
   "metadata": {},
   "outputs": [],
   "source": [
    "print(df1.head(20))"
   ]
  },
  {
   "cell_type": "code",
   "execution_count": null,
   "id": "5d14e55b",
   "metadata": {},
   "outputs": [],
   "source": [
    "print(df1.tail(20))"
   ]
  },
  {
   "cell_type": "code",
   "execution_count": null,
   "id": "b4770a62",
   "metadata": {},
   "outputs": [],
   "source": [
    "#graph plot\n",
    "plt.plot(time_list,taylor_series_list, label = \"Taylor series\")\n",
    "plt.plot(time_list,eular_series_list, alpha = 0.9, label= \"Eular method\")\n",
    "plt.plot(time_list,rungekutta_list,alpha = 0.75, label = \"4th order runge kutta\")\n",
    "plt.plot(time_list,analytical_list,alpha = 0.5, label = \"analytical\")\n",
    "plt.xlabel(\"Time\")\n",
    "plt.ylabel(\"No of atoms\")\n",
    "plt.legend()\n",
    "plt.show()"
   ]
  },
  {
   "cell_type": "code",
   "execution_count": null,
   "id": "8730d001",
   "metadata": {},
   "outputs": [],
   "source": [
    "#error calculation\n",
    "\n",
    "taylor_error = []\n",
    "eular_error = []\n",
    "rungekutta_error = []\n",
    "for i in range(len(analytical_list)):\n",
    "    try:\n",
    "        taylor = abs((analytical_list[i] - taylor_series_list[i])*100 / analytical_list[i])\n",
    "        eular =  abs((analytical_list[i] - eular_series_list[i])*100 / analytical_list[i])\n",
    "        rungekutta = abs((analytical_list[i] - rungekutta_list[i])*100 / analytical_list[i])\n",
    "        taylor_error.append(taylor)\n",
    "        eular_error.append(eular)\n",
    "        rungekutta_error.append(rungekutta)\n",
    "    except ZeroDivisionError:\n",
    "        pass"
   ]
  },
  {
   "cell_type": "code",
   "execution_count": null,
   "id": "9091e6cc",
   "metadata": {},
   "outputs": [],
   "source": [
    "#plot dimension correction\n",
    "\n",
    "difference = len(time_list) - len(taylor_error)\n",
    "for i in range(difference):\n",
    "    time_list.pop()\n",
    "    analytical_list.pop()\n",
    "    taylor_series_list.pop()\n",
    "    eular_series_list.pop()\n",
    "    rungekutta_list.pop()"
   ]
  },
  {
   "cell_type": "code",
   "execution_count": null,
   "id": "601394f2",
   "metadata": {},
   "outputs": [],
   "source": [
    "#dataframe\n",
    "df2 = DataFrame({\"Time\":time_list, \n",
    "                \"Taylor series error\": taylor_error,\n",
    "                \"Eular method error\": eular_error,\n",
    "                \"Runge Kutta error\": rungekutta_error})\n",
    "print(df2)"
   ]
  },
  {
   "cell_type": "code",
   "execution_count": null,
   "id": "71690409",
   "metadata": {},
   "outputs": [],
   "source": [
    "#error graph plot\n",
    "\n",
    "plt.plot(time_list,taylor_error, label = \"Taylor series\")\n",
    "plt.plot(time_list,eular_error, label= \"Eular method\")\n",
    "plt.plot(time_list,rungekutta_error,alpha = 0.7, label = \"4th order runge kutta\")\n",
    "plt.xlabel(\"time\")\n",
    "plt.ylabel(\"error %\")\n",
    "plt.legend()\n",
    "plt.show()"
   ]
  },
  {
   "cell_type": "code",
   "execution_count": null,
   "id": "a2010123",
   "metadata": {},
   "outputs": [],
   "source": [
    "print(df2.head(20))"
   ]
  },
  {
   "cell_type": "code",
   "execution_count": null,
   "id": "c40fdbfd",
   "metadata": {},
   "outputs": [],
   "source": [
    "print(df2.tail(20))"
   ]
  },
  {
   "cell_type": "code",
   "execution_count": null,
   "id": "82c78bf7",
   "metadata": {},
   "outputs": [],
   "source": []
  }
 ],
 "metadata": {
  "kernelspec": {
   "display_name": "Python 3",
   "language": "python",
   "name": "python3"
  },
  "language_info": {
   "codemirror_mode": {
    "name": "ipython",
    "version": 3
   },
   "file_extension": ".py",
   "mimetype": "text/x-python",
   "name": "python",
   "nbconvert_exporter": "python",
   "pygments_lexer": "ipython3",
   "version": "3.8.8"
  }
 },
 "nbformat": 4,
 "nbformat_minor": 5
}
